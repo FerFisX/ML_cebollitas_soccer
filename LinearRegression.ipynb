{
 "cells": [
  {
   "cell_type": "code",
   "execution_count": 4,
   "id": "13260ada-f0b2-4c17-885d-48c65dffb462",
   "metadata": {},
   "outputs": [],
   "source": [
    "import pandas as pd \n",
    "from sklearn.model_selection import train_test_split\n",
    "\n",
    "#Load csv\n",
    "df_games = pd.read_csv(\"partidos_cebollitas_9eada58c-fb57-4224-a3f5-6d9efc881c2e.csv\")\n",
    "#Creation objective variable\n",
    "df_games['diferencia_goles'] = df_games['goles_local'] - df_games['goles_visitante']\n",
    "\n",
    "#Predict variables\n",
    "X = df_games[['posesion_local (%)','tiros_arco_local']]\n",
    "y = df_games['diferencia_goles']\n",
    "\n",
    "# split data : 80% train , 20%test\n",
    "X_train , X_test , y_train , y_test = train_test_split(X,y,test_size = 0.2  , random_state=42)\n"
   ]
  },
  {
   "cell_type": "code",
   "execution_count": 8,
   "id": "04437018-5d33-49d6-9ccb-5937872b481e",
   "metadata": {},
   "outputs": [
    {
     "name": "stdout",
     "output_type": "stream",
     "text": [
      "Model Succesful train\n"
     ]
    }
   ],
   "source": [
    "from sklearn.linear_model import LinearRegression\n",
    "#Instance and model train\n",
    "model_rl = LinearRegression()\n",
    "model_rl.fit(X_train , y_train)\n",
    "\n",
    "print(\"Model Succesful train\")"
   ]
  },
  {
   "cell_type": "code",
   "execution_count": 12,
   "id": "5212e027-325c-4b97-b3bc-6ba1675d6fad",
   "metadata": {},
   "outputs": [
    {
     "name": "stdout",
     "output_type": "stream",
     "text": [
      "Intercept (Bo): -2.525719257232977\n",
      "Coeficient (B): [ 0.05596278 -0.05125811]\n",
      "If we add 1 unit in 'posesion_local (%)' , goals difference change in avg 0.06\n",
      "If we add 1 unit in 'tiros_arco_local' , goals difference change in avg -0.05\n"
     ]
    }
   ],
   "source": [
    "#Show coeficients\n",
    "print(f\"Intercept (Bo): {model_rl.intercept_}\")\n",
    "print(f\"Coeficient (B): {model_rl.coef_}\")\n",
    "\n",
    "#Friendly interpretation\n",
    "for idx , col_name in enumerate(X.columns):\n",
    "    print(f\"If we add 1 unit in '{col_name}' , goals difference change in avg {model_rl.coef_[idx]:.2f}\")"
   ]
  },
  {
   "cell_type": "code",
   "execution_count": 15,
   "id": "bbaa6bbd-f091-4ac4-a332-f2de2e593800",
   "metadata": {},
   "outputs": [
    {
     "data": {
      "text/html": [
       "<div>\n",
       "<style scoped>\n",
       "    .dataframe tbody tr th:only-of-type {\n",
       "        vertical-align: middle;\n",
       "    }\n",
       "\n",
       "    .dataframe tbody tr th {\n",
       "        vertical-align: top;\n",
       "    }\n",
       "\n",
       "    .dataframe thead th {\n",
       "        text-align: right;\n",
       "    }\n",
       "</style>\n",
       "<table border=\"1\" class=\"dataframe\">\n",
       "  <thead>\n",
       "    <tr style=\"text-align: right;\">\n",
       "      <th></th>\n",
       "      <th>posesion_local (%)</th>\n",
       "      <th>tiros_arco_local</th>\n",
       "      <th>Diference_Goles_real</th>\n",
       "      <th>Diference_Goles_predicts</th>\n",
       "    </tr>\n",
       "  </thead>\n",
       "  <tbody>\n",
       "    <tr>\n",
       "      <th>83</th>\n",
       "      <td>47</td>\n",
       "      <td>3</td>\n",
       "      <td>3</td>\n",
       "      <td>-0.05</td>\n",
       "    </tr>\n",
       "    <tr>\n",
       "      <th>53</th>\n",
       "      <td>60</td>\n",
       "      <td>3</td>\n",
       "      <td>3</td>\n",
       "      <td>0.68</td>\n",
       "    </tr>\n",
       "    <tr>\n",
       "      <th>70</th>\n",
       "      <td>50</td>\n",
       "      <td>5</td>\n",
       "      <td>0</td>\n",
       "      <td>0.02</td>\n",
       "    </tr>\n",
       "    <tr>\n",
       "      <th>45</th>\n",
       "      <td>57</td>\n",
       "      <td>7</td>\n",
       "      <td>3</td>\n",
       "      <td>0.31</td>\n",
       "    </tr>\n",
       "    <tr>\n",
       "      <th>44</th>\n",
       "      <td>45</td>\n",
       "      <td>5</td>\n",
       "      <td>5</td>\n",
       "      <td>-0.26</td>\n",
       "    </tr>\n",
       "    <tr>\n",
       "      <th>39</th>\n",
       "      <td>60</td>\n",
       "      <td>7</td>\n",
       "      <td>3</td>\n",
       "      <td>0.47</td>\n",
       "    </tr>\n",
       "    <tr>\n",
       "      <th>22</th>\n",
       "      <td>45</td>\n",
       "      <td>11</td>\n",
       "      <td>0</td>\n",
       "      <td>-0.57</td>\n",
       "    </tr>\n",
       "    <tr>\n",
       "      <th>80</th>\n",
       "      <td>49</td>\n",
       "      <td>5</td>\n",
       "      <td>1</td>\n",
       "      <td>-0.04</td>\n",
       "    </tr>\n",
       "    <tr>\n",
       "      <th>10</th>\n",
       "      <td>48</td>\n",
       "      <td>5</td>\n",
       "      <td>-2</td>\n",
       "      <td>-0.10</td>\n",
       "    </tr>\n",
       "    <tr>\n",
       "      <th>0</th>\n",
       "      <td>54</td>\n",
       "      <td>12</td>\n",
       "      <td>2</td>\n",
       "      <td>-0.12</td>\n",
       "    </tr>\n",
       "  </tbody>\n",
       "</table>\n",
       "</div>"
      ],
      "text/plain": [
       "    posesion_local (%)  tiros_arco_local  Diference_Goles_real  \\\n",
       "83                  47                 3                     3   \n",
       "53                  60                 3                     3   \n",
       "70                  50                 5                     0   \n",
       "45                  57                 7                     3   \n",
       "44                  45                 5                     5   \n",
       "39                  60                 7                     3   \n",
       "22                  45                11                     0   \n",
       "80                  49                 5                     1   \n",
       "10                  48                 5                    -2   \n",
       "0                   54                12                     2   \n",
       "\n",
       "    Diference_Goles_predicts  \n",
       "83                     -0.05  \n",
       "53                      0.68  \n",
       "70                      0.02  \n",
       "45                      0.31  \n",
       "44                     -0.26  \n",
       "39                      0.47  \n",
       "22                     -0.57  \n",
       "80                     -0.04  \n",
       "10                     -0.10  \n",
       "0                      -0.12  "
      ]
     },
     "execution_count": 15,
     "metadata": {},
     "output_type": "execute_result"
    }
   ],
   "source": [
    "#Make predictions\n",
    "y_pred = model_rl.predict(X_test)\n",
    "\n",
    "#Comparation predict vs real values\n",
    "df_results = X_test.copy()\n",
    "df_results['Diference_Goles_real'] = y_test\n",
    "df_results['Diference_Goles_predicts'] = y_pred.round(2)\n",
    "df_results.head(10)"
   ]
  },
  {
   "cell_type": "code",
   "execution_count": 22,
   "id": "90bafafc-0b6f-49d1-bc22-13e488a23feb",
   "metadata": {},
   "outputs": [
    {
     "data": {
      "image/png": "[encoded data removed]",
      "text/plain": [
       "<Figure size 1000x600 with 1 Axes>"
      ]
     },
     "metadata": {},
     "output_type": "display_data"
    }
   ],
   "source": [
    "import matplotlib.pyplot as plt\n",
    "import seaborn as sns\n",
    "\n",
    "#Creating plots \n",
    "plt.figure(figsize=(10,6))\n",
    "sns.scatterplot(x=y_test , y=y_pred)\n",
    "plt.xlabel('Difference Real goals')\n",
    "plt.ylabel('Difference Predict goals')\n",
    "plt.title('Predict vs Real values')\n",
    "plt.axline((0,0), slope=1, color='red' , linestyle='--')\n",
    "plt.show()"
   ]
  },
  {
   "cell_type": "code",
   "execution_count": 28,
   "id": "019999a0-6aa1-43e1-8337-a144934f5d22",
   "metadata": {},
   "outputs": [
    {
     "data": {
      "application/vnd.jupyter.widget-view+json": {
       "model_id": "37e2da042d324dde825f920ce174f79c",
       "version_major": 2,
       "version_minor": 0
      },
      "text/plain": [
       "interactive(children=(FloatSlider(value=30.0, description='Posesion (%)', max=70.0, min=30.0, step=1.0), IntSl…"
      ]
     },
     "metadata": {},
     "output_type": "display_data"
    }
   ],
   "source": [
    "import ipywidgets as widgets\n",
    "\n",
    "#Entry widgets\n",
    "posesion_input = widgets.FloatSlider(min=30,max=70,step=1,description='Posesion (%)')\n",
    "tiros_input = widgets.IntSlider(min=1,max=15,step=1,description='Shots Meta')\n",
    "\n",
    "#Function to predict\n",
    "def predict_goals(posesion, shots):\n",
    "    #Create Dataframe wirh names of rows expected by model\n",
    "    input = pd.DataFrame([[posesion,shots]] , columns=['posesion_local (%)','tiros_arco_local'])\n",
    "    pred = model_rl.predict(input)[0]\n",
    "    print(f\"Difference goals predict: {pred:.2f}\")\n",
    "    \n",
    "#Show widgets intereactive\n",
    "widgets.interactive(predict_goals,posesion=posesion_input , shots = tiros_input)"
   ]
  }
 ],
 "metadata": {
  "kernelspec": {
   "display_name": "Python 3 (ipykernel)",
   "language": "python",
   "name": "python3"
  },
  "language_info": {
   "codemirror_mode": {
    "name": "ipython",
    "version": 3
   },
   "file_extension": ".py",
   "mimetype": "text/x-python",
   "name": "python",
   "nbconvert_exporter": "python",
   "pygments_lexer": "ipython3",
   "version": "3.10.9"
  }
 },
 "nbformat": 4,
 "nbformat_minor": 5
}
