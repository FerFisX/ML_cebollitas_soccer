{
 "cells": [
  {
   "cell_type": "code",
   "execution_count": 31,
   "id": "00699f53-a1d7-4d75-822f-97f41fc93eb8",
   "metadata": {},
   "outputs": [],
   "source": [
    "import pandas as pd"
   ]
  },
  {
   "cell_type": "code",
   "execution_count": 32,
   "id": "7b780a34-7acd-47c3-876c-2573f5e3639f",
   "metadata": {},
   "outputs": [
    {
     "data": {
      "text/html": [
       "<div>\n",
       "<style scoped>\n",
       "    .dataframe tbody tr th:only-of-type {\n",
       "        vertical-align: middle;\n",
       "    }\n",
       "\n",
       "    .dataframe tbody tr th {\n",
       "        vertical-align: top;\n",
       "    }\n",
       "\n",
       "    .dataframe thead th {\n",
       "        text-align: right;\n",
       "    }\n",
       "</style>\n",
       "<table border=\"1\" class=\"dataframe\">\n",
       "  <thead>\n",
       "    <tr style=\"text-align: right;\">\n",
       "      <th></th>\n",
       "      <th>fecha_partido</th>\n",
       "      <th>equipo_local</th>\n",
       "      <th>equipo_visitante</th>\n",
       "      <th>goles_local</th>\n",
       "      <th>goles_visitante</th>\n",
       "      <th>posesion_local (%)</th>\n",
       "      <th>posesion_visitante (%)</th>\n",
       "      <th>tiros_arco_local</th>\n",
       "      <th>tiros_arco_visitante</th>\n",
       "      <th>estadio</th>\n",
       "    </tr>\n",
       "  </thead>\n",
       "  <tbody>\n",
       "    <tr>\n",
       "      <th>0</th>\n",
       "      <td>2023-01-01</td>\n",
       "      <td>Atlético Python</td>\n",
       "      <td>Cebollitas FC</td>\n",
       "      <td>2</td>\n",
       "      <td>0</td>\n",
       "      <td>54</td>\n",
       "      <td>46</td>\n",
       "      <td>12</td>\n",
       "      <td>6</td>\n",
       "      <td>Python Arena</td>\n",
       "    </tr>\n",
       "    <tr>\n",
       "      <th>1</th>\n",
       "      <td>2023-01-08</td>\n",
       "      <td>NumPy City</td>\n",
       "      <td>Atlético Python</td>\n",
       "      <td>1</td>\n",
       "      <td>5</td>\n",
       "      <td>60</td>\n",
       "      <td>40</td>\n",
       "      <td>12</td>\n",
       "      <td>3</td>\n",
       "      <td>Estadio ML</td>\n",
       "    </tr>\n",
       "    <tr>\n",
       "      <th>2</th>\n",
       "      <td>2023-01-15</td>\n",
       "      <td>Cebollitas FC</td>\n",
       "      <td>Data United</td>\n",
       "      <td>1</td>\n",
       "      <td>0</td>\n",
       "      <td>55</td>\n",
       "      <td>45</td>\n",
       "      <td>10</td>\n",
       "      <td>7</td>\n",
       "      <td>Python Arena</td>\n",
       "    </tr>\n",
       "    <tr>\n",
       "      <th>3</th>\n",
       "      <td>2023-01-22</td>\n",
       "      <td>Atlético Python</td>\n",
       "      <td>Data United</td>\n",
       "      <td>2</td>\n",
       "      <td>3</td>\n",
       "      <td>57</td>\n",
       "      <td>43</td>\n",
       "      <td>3</td>\n",
       "      <td>3</td>\n",
       "      <td>Campo Pandas</td>\n",
       "    </tr>\n",
       "    <tr>\n",
       "      <th>4</th>\n",
       "      <td>2023-01-29</td>\n",
       "      <td>Data United</td>\n",
       "      <td>Cebollitas FC</td>\n",
       "      <td>5</td>\n",
       "      <td>3</td>\n",
       "      <td>52</td>\n",
       "      <td>48</td>\n",
       "      <td>7</td>\n",
       "      <td>12</td>\n",
       "      <td>Estadio ML</td>\n",
       "    </tr>\n",
       "  </tbody>\n",
       "</table>\n",
       "</div>"
      ],
      "text/plain": [
       "  fecha_partido     equipo_local equipo_visitante  goles_local  \\\n",
       "0    2023-01-01  Atlético Python    Cebollitas FC            2   \n",
       "1    2023-01-08       NumPy City  Atlético Python            1   \n",
       "2    2023-01-15    Cebollitas FC      Data United            1   \n",
       "3    2023-01-22  Atlético Python      Data United            2   \n",
       "4    2023-01-29      Data United    Cebollitas FC            5   \n",
       "\n",
       "   goles_visitante  posesion_local (%)  posesion_visitante (%)  \\\n",
       "0                0                  54                      46   \n",
       "1                5                  60                      40   \n",
       "2                0                  55                      45   \n",
       "3                3                  57                      43   \n",
       "4                3                  52                      48   \n",
       "\n",
       "   tiros_arco_local  tiros_arco_visitante       estadio  \n",
       "0                12                     6  Python Arena  \n",
       "1                12                     3    Estadio ML  \n",
       "2                10                     7  Python Arena  \n",
       "3                 3                     3  Campo Pandas  \n",
       "4                 7                    12    Estadio ML  "
      ]
     },
     "execution_count": 32,
     "metadata": {},
     "output_type": "execute_result"
    }
   ],
   "source": [
    "# Load of data\n",
    "data_cebollitas = pd.read_csv(\"partidos_cebollitas_9eada58c-fb57-4224-a3f5-6d9efc881c2e.csv\")\n",
    "data_cebollitas.head()"
   ]
  },
  {
   "cell_type": "code",
   "execution_count": 33,
   "id": "5f2fc34d-6b57-4f7c-be68-b9a9b881699f",
   "metadata": {},
   "outputs": [
    {
     "name": "stdout",
     "output_type": "stream",
     "text": [
      "<class 'pandas.core.frame.DataFrame'>\n",
      "RangeIndex: 100 entries, 0 to 99\n",
      "Data columns (total 10 columns):\n",
      " #   Column                  Non-Null Count  Dtype \n",
      "---  ------                  --------------  ----- \n",
      " 0   fecha_partido           100 non-null    object\n",
      " 1   equipo_local            100 non-null    object\n",
      " 2   equipo_visitante        100 non-null    object\n",
      " 3   goles_local             100 non-null    int64 \n",
      " 4   goles_visitante         100 non-null    int64 \n",
      " 5   posesion_local (%)      100 non-null    int64 \n",
      " 6   posesion_visitante (%)  100 non-null    int64 \n",
      " 7   tiros_arco_local        100 non-null    int64 \n",
      " 8   tiros_arco_visitante    100 non-null    int64 \n",
      " 9   estadio                 100 non-null    object\n",
      "dtypes: int64(6), object(4)\n",
      "memory usage: 7.9+ KB\n"
     ]
    }
   ],
   "source": [
    "#Review information\n",
    "data_cebollitas.info()"
   ]
  },
  {
   "cell_type": "code",
   "execution_count": 34,
   "id": "79702395-0cc7-495f-866c-14075dae54f3",
   "metadata": {},
   "outputs": [
    {
     "name": "stdout",
     "output_type": "stream",
     "text": [
      "Datos sin valores nulos cebollitas\n"
     ]
    },
    {
     "data": {
      "text/plain": [
       "fecha_partido             0\n",
       "equipo_local              0\n",
       "equipo_visitante          0\n",
       "goles_local               0\n",
       "goles_visitante           0\n",
       "posesion_local (%)        0\n",
       "posesion_visitante (%)    0\n",
       "tiros_arco_local          0\n",
       "tiros_arco_visitante      0\n",
       "estadio                   0\n",
       "dtype: int64"
      ]
     },
     "execution_count": 34,
     "metadata": {},
     "output_type": "execute_result"
    }
   ],
   "source": [
    "# Find and manage misssing data\n",
    "#data_cebollitas.isnull().sum()\n",
    "data_cebollitas['goles_local'] = data_cebollitas['goles_local'].fillna(data_cebollitas['goles_local'].mean())\n",
    "print('Datos sin valores nulos cebollitas')\n",
    "data_cebollitas.isnull().sum()"
   ]
  },
  {
   "cell_type": "code",
   "execution_count": 35,
   "id": "bdcc04e2-1ba7-4a79-a0a4-c50a8381bfc0",
   "metadata": {},
   "outputs": [
    {
     "data": {
      "text/html": [
       "<div>\n",
       "<style scoped>\n",
       "    .dataframe tbody tr th:only-of-type {\n",
       "        vertical-align: middle;\n",
       "    }\n",
       "\n",
       "    .dataframe tbody tr th {\n",
       "        vertical-align: top;\n",
       "    }\n",
       "\n",
       "    .dataframe thead th {\n",
       "        text-align: right;\n",
       "    }\n",
       "</style>\n",
       "<table border=\"1\" class=\"dataframe\">\n",
       "  <thead>\n",
       "    <tr style=\"text-align: right;\">\n",
       "      <th></th>\n",
       "      <th>fecha_partido</th>\n",
       "      <th>goles_local</th>\n",
       "      <th>goles_visitante</th>\n",
       "      <th>posesion_local (%)</th>\n",
       "      <th>posesion_visitante (%)</th>\n",
       "      <th>tiros_arco_local</th>\n",
       "      <th>tiros_arco_visitante</th>\n",
       "      <th>estadio</th>\n",
       "      <th>equipo_local_Atlético Python</th>\n",
       "      <th>equipo_local_Cebollitas FC</th>\n",
       "      <th>equipo_local_Data United</th>\n",
       "      <th>equipo_local_NumPy City</th>\n",
       "      <th>equipo_local_Real Pandas</th>\n",
       "      <th>equipo_visitante_Atlético Python</th>\n",
       "      <th>equipo_visitante_Cebollitas FC</th>\n",
       "      <th>equipo_visitante_Data United</th>\n",
       "      <th>equipo_visitante_NumPy City</th>\n",
       "      <th>equipo_visitante_Real Pandas</th>\n",
       "    </tr>\n",
       "  </thead>\n",
       "  <tbody>\n",
       "    <tr>\n",
       "      <th>0</th>\n",
       "      <td>2023-01-01</td>\n",
       "      <td>2</td>\n",
       "      <td>0</td>\n",
       "      <td>54</td>\n",
       "      <td>46</td>\n",
       "      <td>12</td>\n",
       "      <td>6</td>\n",
       "      <td>Python Arena</td>\n",
       "      <td>1</td>\n",
       "      <td>0</td>\n",
       "      <td>0</td>\n",
       "      <td>0</td>\n",
       "      <td>0</td>\n",
       "      <td>0</td>\n",
       "      <td>1</td>\n",
       "      <td>0</td>\n",
       "      <td>0</td>\n",
       "      <td>0</td>\n",
       "    </tr>\n",
       "    <tr>\n",
       "      <th>1</th>\n",
       "      <td>2023-01-08</td>\n",
       "      <td>1</td>\n",
       "      <td>5</td>\n",
       "      <td>60</td>\n",
       "      <td>40</td>\n",
       "      <td>12</td>\n",
       "      <td>3</td>\n",
       "      <td>Estadio ML</td>\n",
       "      <td>0</td>\n",
       "      <td>0</td>\n",
       "      <td>0</td>\n",
       "      <td>1</td>\n",
       "      <td>0</td>\n",
       "      <td>1</td>\n",
       "      <td>0</td>\n",
       "      <td>0</td>\n",
       "      <td>0</td>\n",
       "      <td>0</td>\n",
       "    </tr>\n",
       "    <tr>\n",
       "      <th>2</th>\n",
       "      <td>2023-01-15</td>\n",
       "      <td>1</td>\n",
       "      <td>0</td>\n",
       "      <td>55</td>\n",
       "      <td>45</td>\n",
       "      <td>10</td>\n",
       "      <td>7</td>\n",
       "      <td>Python Arena</td>\n",
       "      <td>0</td>\n",
       "      <td>1</td>\n",
       "      <td>0</td>\n",
       "      <td>0</td>\n",
       "      <td>0</td>\n",
       "      <td>0</td>\n",
       "      <td>0</td>\n",
       "      <td>1</td>\n",
       "      <td>0</td>\n",
       "      <td>0</td>\n",
       "    </tr>\n",
       "    <tr>\n",
       "      <th>3</th>\n",
       "      <td>2023-01-22</td>\n",
       "      <td>2</td>\n",
       "      <td>3</td>\n",
       "      <td>57</td>\n",
       "      <td>43</td>\n",
       "      <td>3</td>\n",
       "      <td>3</td>\n",
       "      <td>Campo Pandas</td>\n",
       "      <td>1</td>\n",
       "      <td>0</td>\n",
       "      <td>0</td>\n",
       "      <td>0</td>\n",
       "      <td>0</td>\n",
       "      <td>0</td>\n",
       "      <td>0</td>\n",
       "      <td>1</td>\n",
       "      <td>0</td>\n",
       "      <td>0</td>\n",
       "    </tr>\n",
       "    <tr>\n",
       "      <th>4</th>\n",
       "      <td>2023-01-29</td>\n",
       "      <td>5</td>\n",
       "      <td>3</td>\n",
       "      <td>52</td>\n",
       "      <td>48</td>\n",
       "      <td>7</td>\n",
       "      <td>12</td>\n",
       "      <td>Estadio ML</td>\n",
       "      <td>0</td>\n",
       "      <td>0</td>\n",
       "      <td>1</td>\n",
       "      <td>0</td>\n",
       "      <td>0</td>\n",
       "      <td>0</td>\n",
       "      <td>1</td>\n",
       "      <td>0</td>\n",
       "      <td>0</td>\n",
       "      <td>0</td>\n",
       "    </tr>\n",
       "  </tbody>\n",
       "</table>\n",
       "</div>"
      ],
      "text/plain": [
       "  fecha_partido  goles_local  goles_visitante  posesion_local (%)  \\\n",
       "0    2023-01-01            2                0                  54   \n",
       "1    2023-01-08            1                5                  60   \n",
       "2    2023-01-15            1                0                  55   \n",
       "3    2023-01-22            2                3                  57   \n",
       "4    2023-01-29            5                3                  52   \n",
       "\n",
       "   posesion_visitante (%)  tiros_arco_local  tiros_arco_visitante  \\\n",
       "0                      46                12                     6   \n",
       "1                      40                12                     3   \n",
       "2                      45                10                     7   \n",
       "3                      43                 3                     3   \n",
       "4                      48                 7                    12   \n",
       "\n",
       "        estadio  equipo_local_Atlético Python  equipo_local_Cebollitas FC  \\\n",
       "0  Python Arena                             1                           0   \n",
       "1    Estadio ML                             0                           0   \n",
       "2  Python Arena                             0                           1   \n",
       "3  Campo Pandas                             1                           0   \n",
       "4    Estadio ML                             0                           0   \n",
       "\n",
       "   equipo_local_Data United  equipo_local_NumPy City  \\\n",
       "0                         0                        0   \n",
       "1                         0                        1   \n",
       "2                         0                        0   \n",
       "3                         0                        0   \n",
       "4                         1                        0   \n",
       "\n",
       "   equipo_local_Real Pandas  equipo_visitante_Atlético Python  \\\n",
       "0                         0                                 0   \n",
       "1                         0                                 1   \n",
       "2                         0                                 0   \n",
       "3                         0                                 0   \n",
       "4                         0                                 0   \n",
       "\n",
       "   equipo_visitante_Cebollitas FC  equipo_visitante_Data United  \\\n",
       "0                               1                             0   \n",
       "1                               0                             0   \n",
       "2                               0                             1   \n",
       "3                               0                             1   \n",
       "4                               1                             0   \n",
       "\n",
       "   equipo_visitante_NumPy City  equipo_visitante_Real Pandas  \n",
       "0                            0                             0  \n",
       "1                            0                             0  \n",
       "2                            0                             0  \n",
       "3                            0                             0  \n",
       "4                            0                             0  "
      ]
     },
     "execution_count": 35,
     "metadata": {},
     "output_type": "execute_result"
    }
   ],
   "source": [
    "# One hot Ecoging\n",
    "data_prepared = pd.get_dummies(data_cebollitas , columns = ['equipo_local','equipo_visitante'])\n",
    "data_prepared.head()"
   ]
  },
  {
   "cell_type": "code",
   "execution_count": 36,
   "id": "8c60f074-22ee-49db-b98a-a6e275b3e0c9",
   "metadata": {},
   "outputs": [
    {
     "name": "stdout",
     "output_type": "stream",
     "text": [
      "Rows before drop duplicates:  100\n",
      "Rows after 100\n"
     ]
    }
   ],
   "source": [
    "# drop values duplicated\n",
    "print(\"Rows before drop duplicates: \",len(data_prepared))\n",
    "data_prepared.drop_duplicates(inplace = True)\n",
    "print(\"Rows after\" , len(data_prepared))"
   ]
  },
  {
   "cell_type": "code",
   "execution_count": 40,
   "id": "a3936786-ee7b-4019-99b9-aa2399932991",
   "metadata": {},
   "outputs": [
    {
     "name": "stdout",
     "output_type": "stream",
     "text": [
      "invalid dates NaT , after conversion\n",
      "0\n"
     ]
    }
   ],
   "source": [
    "#mangment of date\n",
    "data_prepared['fecha_partido'] = pd.to_datetime(data_prepared['fecha_partido'] , errors = 'coerce')\n",
    "print(\"invalid dates NaT , after conversion\")\n",
    "print(data_prepared['fecha_partido'].isnull().sum())"
   ]
  },
  {
   "cell_type": "code",
   "execution_count": 41,
   "id": "3a52ea02-92f5-4efe-b225-c85804ecac5a",
   "metadata": {},
   "outputs": [
    {
     "name": "stdout",
     "output_type": "stream",
     "text": [
      "<class 'pandas.core.frame.DataFrame'>\n",
      "Int64Index: 100 entries, 0 to 99\n",
      "Data columns (total 18 columns):\n",
      " #   Column                            Non-Null Count  Dtype         \n",
      "---  ------                            --------------  -----         \n",
      " 0   fecha_partido                     100 non-null    datetime64[ns]\n",
      " 1   goles_local                       100 non-null    int64         \n",
      " 2   goles_visitante                   100 non-null    int64         \n",
      " 3   posesion_local (%)                100 non-null    int64         \n",
      " 4   posesion_visitante (%)            100 non-null    int64         \n",
      " 5   tiros_arco_local                  100 non-null    int64         \n",
      " 6   tiros_arco_visitante              100 non-null    int64         \n",
      " 7   estadio                           100 non-null    object        \n",
      " 8   equipo_local_Atlético Python      100 non-null    uint8         \n",
      " 9   equipo_local_Cebollitas FC        100 non-null    uint8         \n",
      " 10  equipo_local_Data United          100 non-null    uint8         \n",
      " 11  equipo_local_NumPy City           100 non-null    uint8         \n",
      " 12  equipo_local_Real Pandas          100 non-null    uint8         \n",
      " 13  equipo_visitante_Atlético Python  100 non-null    uint8         \n",
      " 14  equipo_visitante_Cebollitas FC    100 non-null    uint8         \n",
      " 15  equipo_visitante_Data United      100 non-null    uint8         \n",
      " 16  equipo_visitante_NumPy City       100 non-null    uint8         \n",
      " 17  equipo_visitante_Real Pandas      100 non-null    uint8         \n",
      "dtypes: datetime64[ns](1), int64(6), object(1), uint8(10)\n",
      "memory usage: 8.0+ KB\n"
     ]
    }
   ],
   "source": [
    "data_prepared.info()"
   ]
  },
  {
   "cell_type": "code",
   "execution_count": 42,
   "id": "11285788-ac0e-4045-a326-081392cd90f0",
   "metadata": {},
   "outputs": [
    {
     "data": {
      "text/plain": [
       "fecha_partido                       0\n",
       "goles_local                         0\n",
       "goles_visitante                     0\n",
       "posesion_local (%)                  0\n",
       "posesion_visitante (%)              0\n",
       "tiros_arco_local                    0\n",
       "tiros_arco_visitante                0\n",
       "estadio                             0\n",
       "equipo_local_Atlético Python        0\n",
       "equipo_local_Cebollitas FC          0\n",
       "equipo_local_Data United            0\n",
       "equipo_local_NumPy City             0\n",
       "equipo_local_Real Pandas            0\n",
       "equipo_visitante_Atlético Python    0\n",
       "equipo_visitante_Cebollitas FC      0\n",
       "equipo_visitante_Data United        0\n",
       "equipo_visitante_NumPy City         0\n",
       "equipo_visitante_Real Pandas        0\n",
       "dtype: int64"
      ]
     },
     "execution_count": 42,
     "metadata": {},
     "output_type": "execute_result"
    }
   ],
   "source": [
    "data_prepared.isnull().sum()"
   ]
  },
  {
   "cell_type": "code",
   "execution_count": 46,
   "id": "e404bb20-2e2f-4a7b-81c7-0df6367b8622",
   "metadata": {},
   "outputs": [
    {
     "data": {
      "text/plain": [
       "(100, 18)"
      ]
     },
     "execution_count": 46,
     "metadata": {},
     "output_type": "execute_result"
    }
   ],
   "source": [
    "##Final data set\n",
    "data_prepared.head()\n",
    "data_prepared.shape"
   ]
  }
 ],
 "metadata": {
  "kernelspec": {
   "display_name": "Python 3 (ipykernel)",
   "language": "python",
   "name": "python3"
  },
  "language_info": {
   "codemirror_mode": {
    "name": "ipython",
    "version": 3
   },
   "file_extension": ".py",
   "mimetype": "text/x-python",
   "name": "python",
   "nbconvert_exporter": "python",
   "pygments_lexer": "ipython3",
   "version": "3.10.9"
  }
 },
 "nbformat": 4,
 "nbformat_minor": 5
}
